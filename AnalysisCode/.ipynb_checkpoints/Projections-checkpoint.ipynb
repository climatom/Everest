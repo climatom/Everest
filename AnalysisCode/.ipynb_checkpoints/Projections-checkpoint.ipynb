{
 "cells": [
  {
   "cell_type": "code",
   "execution_count": 13,
   "metadata": {},
   "outputs": [],
   "source": [
    "import os,sys,netCDF4, pandas as pd\n",
    "\n",
    "# Get dir name of parent directory\n",
    "modfol=os.path.dirname(os.getcwd())\n",
    "sys.path.insert(0, modfol)\n",
    "\n",
    "# Complete import statements \n",
    "import GeneralFunctions as GF, numpy as np, matplotlib.pyplot as plt, pandas as pd\n",
    "\n",
    "# Set Data directory\n",
    "datadir=modfol+\"/Data/\"\n"
   ]
  },
  {
   "cell_type": "markdown",
   "metadata": {},
   "source": [
    "# Summit climate sensitivity to global mean temperature change "
   ]
  },
  {
   "cell_type": "code",
   "execution_count": 32,
   "metadata": {},
   "outputs": [
    {
     "ename": "ValueError",
     "evalue": "day is out of range for month",
     "output_type": "error",
     "traceback": [
      "\u001b[0;31m---------------------------------------------------------------------------\u001b[0m",
      "\u001b[0;31mValueError\u001b[0m                                Traceback (most recent call last)",
      "\u001b[0;32m<ipython-input-32-1d6c8f0284be>\u001b[0m in \u001b[0;36m<module>\u001b[0;34m()\u001b[0m\n\u001b[1;32m      6\u001b[0m     \u001b[0mp\u001b[0m\u001b[0;34m=\u001b[0m\u001b[0mfobj\u001b[0m\u001b[0;34m.\u001b[0m\u001b[0mvariables\u001b[0m\u001b[0;34m[\u001b[0m\u001b[0;34m\"Pressure\"\u001b[0m\u001b[0;34m]\u001b[0m\u001b[0;34m\u001b[0m\u001b[0m\n\u001b[1;32m      7\u001b[0m     \u001b[0mtime\u001b[0m\u001b[0;34m=\u001b[0m\u001b[0mfobj\u001b[0m\u001b[0;34m.\u001b[0m\u001b[0mvariables\u001b[0m\u001b[0;34m[\u001b[0m\u001b[0;34m\"time\"\u001b[0m\u001b[0;34m]\u001b[0m\u001b[0;34m\u001b[0m\u001b[0m\n\u001b[0;32m----> 8\u001b[0;31m     \u001b[0myear\u001b[0m\u001b[0;34m,\u001b[0m\u001b[0mmon\u001b[0m\u001b[0;34m,\u001b[0m\u001b[0mday\u001b[0m\u001b[0;34m,\u001b[0m\u001b[0mhour\u001b[0m\u001b[0;34m,\u001b[0m\u001b[0mpyTimes\u001b[0m\u001b[0;34m=\u001b[0m\u001b[0mGF\u001b[0m\u001b[0;34m.\u001b[0m\u001b[0mconTimes\u001b[0m\u001b[0;34m(\u001b[0m\u001b[0mtime_str\u001b[0m\u001b[0;34m=\u001b[0m\u001b[0mtime\u001b[0m\u001b[0;34m.\u001b[0m\u001b[0munits\u001b[0m\u001b[0;34m,\u001b[0m\u001b[0mcalendar\u001b[0m\u001b[0;34m=\u001b[0m\u001b[0mtime\u001b[0m\u001b[0;34m.\u001b[0m\u001b[0mcalendar\u001b[0m                                          \u001b[0;34m,\u001b[0m\u001b[0mtimes\u001b[0m\u001b[0;34m=\u001b[0m\u001b[0mtime\u001b[0m\u001b[0;34m[\u001b[0m\u001b[0;34m:\u001b[0m\u001b[0;34m]\u001b[0m\u001b[0;34m,\u001b[0m\u001b[0msafe\u001b[0m\u001b[0;34m=\u001b[0m\u001b[0mTrue\u001b[0m\u001b[0;34m)\u001b[0m\u001b[0;34m\u001b[0m\u001b[0m\n\u001b[0m\u001b[1;32m      9\u001b[0m \u001b[0;34m\u001b[0m\u001b[0m\n\u001b[1;32m     10\u001b[0m \u001b[0;34m\u001b[0m\u001b[0m\n",
      "\u001b[0;32m/home/lunet/gytm3/anaconda2/lib/python2.7/site-packages/GeneralFunctions.pyc\u001b[0m in \u001b[0;36mconTimes\u001b[0;34m(time_str, calendar, times, safe)\u001b[0m\n\u001b[1;32m   1642\u001b[0m         \u001b[0myear\u001b[0m\u001b[0;34m=\u001b[0m\u001b[0mnp\u001b[0m\u001b[0;34m.\u001b[0m\u001b[0matleast_1d\u001b[0m\u001b[0;34m(\u001b[0m\u001b[0myear\u001b[0m\u001b[0;34m)\u001b[0m\u001b[0;34m;\u001b[0m \u001b[0mmon\u001b[0m\u001b[0;34m=\u001b[0m\u001b[0mnp\u001b[0m\u001b[0;34m.\u001b[0m\u001b[0matleast_1d\u001b[0m\u001b[0;34m(\u001b[0m\u001b[0mmon\u001b[0m\u001b[0;34m)\u001b[0m\u001b[0;34m;\u001b[0m \u001b[0mday\u001b[0m\u001b[0;34m=\u001b[0m\u001b[0mnp\u001b[0m\u001b[0;34m.\u001b[0m\u001b[0matleast_1d\u001b[0m\u001b[0;34m(\u001b[0m\u001b[0mday\u001b[0m\u001b[0;34m)\u001b[0m\u001b[0;34m\u001b[0m\u001b[0m\n\u001b[1;32m   1643\u001b[0m         pyTimes = np.array([datetime(year[ii],mon[ii],day[ii]) for ii in \\\n\u001b[0;32m-> 1644\u001b[0;31m         range(len(year))])\n\u001b[0m\u001b[1;32m   1645\u001b[0m \u001b[0;34m\u001b[0m\u001b[0m\n\u001b[1;32m   1646\u001b[0m     \u001b[0;32mreturn\u001b[0m \u001b[0myear\u001b[0m\u001b[0;34m,\u001b[0m\u001b[0mmon\u001b[0m\u001b[0;34m,\u001b[0m\u001b[0mday\u001b[0m\u001b[0;34m,\u001b[0m\u001b[0mhour\u001b[0m\u001b[0;34m,\u001b[0m\u001b[0mpyTimes\u001b[0m\u001b[0;34m\u001b[0m\u001b[0m\n",
      "\u001b[0;31mValueError\u001b[0m: day is out of range for month"
     ]
    }
   ],
   "source": [
    "# Read in each model run (pressure and tas -- daily), extract 1981-2099, and compute the monthly\n",
    "files=[\"%s/Projections/\"%datadir+ii for ii in os.listdir(\"%s/Projections/\"%datadir) if \"tas\" not in ii]\n",
    "for f in files:\n",
    "    fobj=netCDF4.Dataset(f,\"r\")\n",
    "    tas=fobj.variables[\"Temp\"]\n",
    "    p=fobj.variables[\"Pressure\"]\n",
    "    time=fobj.variables[\"time\"]\n",
    "    year,mon,day,hour,pyTimes=GF.conTimes(time_str=time.units,calendar=time.calendar\\\n",
    "                                          ,times=time[:],safe=True)\n",
    "    print \"Processed file: %s\" % f\n",
    "    \n",
    "   "
   ]
  },
  {
   "cell_type": "code",
   "execution_count": 31,
   "metadata": {},
   "outputs": [
    {
     "data": {
      "text/plain": [
       "netcdftime._netcdftime.DatetimeNoLeap(1950, 1, 1, 12, 0, 0, 0, 6, 1)"
      ]
     },
     "execution_count": 31,
     "metadata": {},
     "output_type": "execute_result"
    }
   ],
   "source": [
    "\n",
    "test=pd.DataFrame(data={\"tas\":tas[:],\"press\":p[:]});test.set_index(pyTimes.data[:],inplace=True); test.tail(5)\n",
    "#test.resample(\"M\").mean()\n",
    "pyTimes[0]"
   ]
  },
  {
   "cell_type": "code",
   "execution_count": null,
   "metadata": {},
   "outputs": [],
   "source": []
  }
 ],
 "metadata": {
  "kernelspec": {
   "display_name": "Python 2",
   "language": "python",
   "name": "python2"
  },
  "language_info": {
   "codemirror_mode": {
    "name": "ipython",
    "version": 2
   },
   "file_extension": ".py",
   "mimetype": "text/x-python",
   "name": "python",
   "nbconvert_exporter": "python",
   "pygments_lexer": "ipython2",
   "version": "2.7.15"
  }
 },
 "nbformat": 4,
 "nbformat_minor": 2
}
