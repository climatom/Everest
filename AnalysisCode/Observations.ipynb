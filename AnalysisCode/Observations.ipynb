{
 "cells": [
  {
   "cell_type": "code",
   "execution_count": 22,
   "metadata": {},
   "outputs": [],
   "source": [
    "import os,sys,netCDF4\n",
    "\n",
    "# Get dir name of parent directory\n",
    "modfol=os.path.dirname(os.getcwd())\n",
    "sys.path.insert(0, modfol)\n",
    "\n",
    "# Complete import statements \n",
    "import GeneralFunctions as GF, numpy as np, matplotlib.pyplot as plt, pandas as pd\n",
    "\n",
    "# Set Data directory\n",
    "datadir=modfol+\"/Data/\"\n",
    "\n",
    "# Setname of observations file\n",
    "obsfile=datadir+\"Pyramid_SCol.xlsx\" # Sheetnames = \"Pyramid_hour\"; \"SCol\"\n"
   ]
  },
  {
   "cell_type": "markdown",
   "metadata": {},
   "source": [
    "# Comparison of Daily Observations and Reanalysis Data\n",
    "\n",
    "### Station Observations\n",
    "First we import the weather station data. These data have a temporal frequency of 10 minutes, and are in Nepali time (GMT+5:45). We import into a pandas DataFrame and set the Date (first column) as the time index. We also convert to daily and drop the first obs (incomplete day)"
   ]
  },
  {
   "cell_type": "code",
   "execution_count": 48,
   "metadata": {},
   "outputs": [],
   "source": [
    "obs=pd.read_excel(obsfile,sheet_name=\"SCol\",index_col=0,parse_dates=True,names=[\"Temp_Obs\",\"Press_Obs\"])\n",
    "obs.index =obs.index+pd.DateOffset(hours=-5.75) # note that we convert to UTC\n",
    "#obs.tail(5) # <- uncomment to examine\n",
    "obs_daily=(obs.resample(\"D\").mean())[1:]\n",
    "#obs_daily.head(5) # <- ditto"
   ]
  },
  {
   "cell_type": "markdown",
   "metadata": {
    "collapsed": true
   },
   "source": [
    "### Reanalysis Data\n",
    "Next we iterate over all the monthly NetCDF files, (bi-linearly) interpolating to the lon (86.9250) and lat (27.9878) of Everest, and to the elevation of the South Col (7986 m). These interpolated data are inserted into a time-aware Pandas DataFrame. "
   ]
  },
  {
   "cell_type": "code",
   "execution_count": 68,
   "metadata": {},
   "outputs": [],
   "source": [
    "# To facilitate the interpolation, we write a convenience function that interpolates horizontally using the system\n",
    "# install of CDO. We then interpolate vertically using Python\n",
    "\n",
    "def interpNC(fin,zname,pname,tname,low_p,high_p,z_c):\n",
    "\n",
    "    \"\"\"\n",
    "    Take variables in fin -- which is time/plevel netCDF4 Dataset and \n",
    "    interpolate to the z of interest\n",
    "    \n",
    "    fin   :-> netCDF4 input file\n",
    "    zname :-> name of geopotential height variable\n",
    "    pname :-> name of pressure level variable\n",
    "    tname :-> name of temperature variable\n",
    "    low_p :-> Pressure (in Pa) of surface above Everest\n",
    "    high_p:-> Pressue (in Pa) of surface below South Col\n",
    "    z_c   :-> height to interpolate to\n",
    "    \n",
    "    \"\"\"\n",
    "    \n",
    "    # Interpolate entire file (i.e. all vars/times) horizontally with CDO \n",
    "    cmd=\"cdo remapbil,lon=86.93333_lat=27.96667 %s%s /tmp/scratch.nc\" % (datadir,fin)\n",
    "    fail=os.system(cmd); assert fail==0,\"This call failed:\\n%s\"%cmd # system call\n",
    "    \n",
    "    # recycle fin to be the netCDF file\n",
    "    fin=netCDF4.Dataset(\"/tmp/scratch.nc\")\n",
    "    \n",
    "    # Variables for interpolation\n",
    "    vs=[ii for ii in fin.variables if \"lon\" not in ii and \"lat\" not in ii and\\\n",
    "        \"time\" not in ii and zname not in ii and \"z\" not in ii]\n",
    "    \n",
    "    #Assignments and preallocation\n",
    "    z=np.squeeze(fin.variables[zname][:,:]) # Height - m\n",
    "    temp=np.squeeze(fin.variables[tname][:,:]) # Temp - K\n",
    "    p=np.squeeze(fin.variables[pname][:]) # Pressure level \n",
    "    time=fin.variables[\"time\"] # Time\n",
    "    nt=len(time)\n",
    "    nv=len(vs)\n",
    "    tcount=range(nt)\n",
    "    vcount=range(nv)\n",
    "    out=np.zeros((len(time),len(vs)+1))*np.nan # \n",
    "    ptime=netCDF4.num2date(time[:],units=time.units,calendar=time.calendar)  \n",
    "\n",
    "    \n",
    "    # Main loop \n",
    "    for v in vcount: # Over variables\n",
    "        y=np.squeeze(fin.variables[vs[v]][:])\n",
    "        for t in tcount: # Over time\n",
    "            if vs[v]==\"level\":\n",
    "               out[t,v]= np.interp(z_c,z[t,::-1],p[::-1])\n",
    "            else:\n",
    "                out[t,v]=np.interp(z_c,z[t,::-1],y[t,::-1])    \n",
    "                           \n",
    "        if vs[v]==\"t\": # convert to deg C\n",
    "            out[:,v]-=273.15\n",
    "      \n",
    "    # Add lapse rate (degC/km)        \n",
    "    out[:,-1]=np.squeeze((temp[:,p==low_p]-temp[:,p==high_p])/\\\n",
    "    (z[:,p==low_p]-z[:,p==high_p]))*1e3\n",
    "    \n",
    "    return pd.DataFrame(data=out,columns=vs+[\"lapse\"],index=ptime)\n",
    "\n",
    "# Here, we list all the netCDF4 files to interpolate...\n",
    "files=[ii for ii in os.listdir(datadir) if \".nc\" in ii]\n",
    "\n",
    "# And now we apply the interpolation routine (function) to all monthly files -- merging the output into a Pandas DF...\n",
    "# [Note: this code is quite slow at the moment!]\n",
    "mod=pd.concat([interpNC(files[ii],\"z_2\",\"level\",\"t\",300,400,7986) for ii in range(len(files))])"
   ]
  },
  {
   "cell_type": "code",
   "execution_count": 69,
   "metadata": {},
   "outputs": [],
   "source": [
    "# Now we compute the daily mean for the reanalysis data (new cell is because the previous one is slow to run!)\n",
    "mod_daily=mod.resample(\"D\").mean()"
   ]
  },
  {
   "cell_type": "markdown",
   "metadata": {},
   "source": [
    "### Comparing Observations and Reanalysis Data\n",
    "Here we combine the two dataframes and examine the agreement between series"
   ]
  },
  {
   "cell_type": "code",
   "execution_count": 91,
   "metadata": {},
   "outputs": [
    {
     "data": {
      "image/png": "[encoded data removed]",
      "text/plain": [
       "<Figure size 648x216 with 2 Axes>"
      ]
     },
     "metadata": {},
     "output_type": "display_data"
    }
   ],
   "source": [
    "comb=(pd.concat([obs_daily,mod_daily],axis=1)).dropna()\n",
    "# Temporal agreement between Temp and Pressure?\n",
    "r_t=np.corrcoef(comb[\"Temp_Obs\"],comb[\"t\"])[0,1]\n",
    "r_p=np.corrcoef(comb[\"Press_Obs\"],comb[\"level\"])[0,1]\n",
    "# Quantile agreement?\n",
    "pcs=np.arange(1,100,1)\n",
    "qs=pd.DataFrame(data=np.percentile(comb,pcs,axis=0),columns=comb.columns,index=pcs)\n",
    "# Plot the quantile agreement \n",
    "fig,ax=plt.subplots(1,2)\n",
    "# Temp\n",
    "ax.flat[0].scatter(qs[\"t\"],qs[\"Temp_Obs\"]); ax.flat[0].set_xlabel(r\"Reanalysis T [$^{\\circ}$C]\")\n",
    "ax.flat[0].set_ylabel(r\"Observed T [$^{\\circ}$C]\")\n",
    "# Pressure \n",
    "ax.flat[1].scatter(qs[\"level\"],qs[\"Press_Obs\"]); ax.flat[1].set_xlabel(r\"Reanalysis P [hPa]\")\n",
    "ax.flat[1].set_ylabel(r\"Observed P [hPa]\")\n",
    "fig.set_size_inches(9,3)\n"
   ]
  },
  {
   "cell_type": "markdown",
   "metadata": {},
   "source": [
    "### Bias correcting the reanalysis data\n",
    "The bias seems to be approximately linear for both air temperature and pressure, hence a simple scale and shift could be appropriate. However, we favour the more complete QQ mapping here as it deals with the apparent departures from linearity near the tails (particulalry evident in T) "
   ]
  },
  {
   "cell_type": "code",
   "execution_count": 114,
   "metadata": {},
   "outputs": [
    {
     "data": {
      "image/png": "[encoded data removed]",
      "text/plain": [
       "<Figure size 648x216 with 2 Axes>"
      ]
     },
     "metadata": {},
     "output_type": "display_data"
    },
    {
     "data": {
      "image/png": "[encoded data removed]",
      "text/plain": [
       "<Figure size 648x216 with 2 Axes>"
      ]
     },
     "metadata": {},
     "output_type": "display_data"
    }
   ],
   "source": [
    "# Here we call the QQ mapping routine. [Note that this comes from GeneralFunctions]\n",
    "\n",
    "# First we test the correction to illustrate the treatment\n",
    "## Temp \n",
    "fig,ax=plt.subplots(1,2); fig.set_size_inches(9,3)\n",
    "### Demo\n",
    "test=np.linspace(np.min(comb[\"t\"])-5,np.max(comb[\"t\"])+5,500)\n",
    "demoCorr=GF.QQmatch3(comb[\"Temp_Obs\"],comb[\"t\"],pcs,test,extrap=False)\n",
    "ax.flat[0].plot(np.percentile(test,pcs),np.percentile(demoCorr,pcs),color=\"r\")\n",
    "ax.flat[0].scatter(qs[\"t\"],qs[\"Temp_Obs\"],color=\"b\")\n",
    "### Correct overlapping period\n",
    "testCorr=GF.QQmatch3(comb[\"Temp_Obs\"],comb[\"t\"],pcs,comb[\"t\"],extrap=False)\n",
    "ax.flat[1].scatter(np.percentile(testCorr,pcs),qs[\"Temp_Obs\"],color=\"b\")\n",
    "\n",
    "\n",
    "## Press\n",
    "fig,ax=plt.subplots(1,2);fig.set_size_inches(9,3)\n",
    "### Demo\n",
    "test=np.linspace(np.min(comb[\"level\"])-5,np.max(comb[\"level\"])+5,500)\n",
    "testCorr=GF.QQmatch3(comb[\"Press_Obs\"],comb[\"level\"],pcs,test,extrap=False)\n",
    "ax.flat[0].plot(np.percentile(test,pcs),np.percentile(testCorr,pcs),color=\"r\")\n",
    "ax.flat[0].scatter(qs[\"level\"],qs[\"Press_Obs\"],color=\"b\")\n",
    "### Correct overlapping period\n",
    "testCorr=GF.QQmatch3(comb[\"Press_Obs\"],comb[\"level\"],pcs,comb[\"level\"],extrap=False)\n",
    "ax.flat[1].scatter(np.percentile(testCorr,pcs),qs[\"Press_Obs\"],color=\"b\")\n",
    "\n",
    "# Correct the entire period and add to mod_daily\n",
    "## Temp\n",
    "mod_daily[\"t_corr\"]=GF.QQmatch3(comb[\"Temp_Obs\"],comb[\"t\"],pcs,mod_daily[\"t\"],extrap=False)\n",
    "## Press\n",
    "mod_daily[\"p_corr\"]=GF.QQmatch3(comb[\"Press_Obs\"],comb[\"level\"],pcs,mod_daily[\"level\"],extrap=False)\n",
    "\n"
   ]
  },
  {
   "cell_type": "markdown",
   "metadata": {},
   "source": [
    "# Adjusting bias corrected data to the summit\n",
    "Here we use the bias-corrected data, along with the lapse rate and hypsometric equation, to compute the summit temperature and pressure:\n",
    "\n",
    "\\begin{eqnarray}\n",
    "T_s=T_c+{\\Gamma}dz\\\\\n",
    "P_s=P_ce^{-dz g/R_d\\bar{T}}\n",
    "\\end{eqnarray}\n",
    "\n",
    "Where $_s$ and $_c$ denote the South Col and summit, respectively. Note that $\\bar{T}$ is mean virtual temperature in the layer between the South Col and the summit. Here we make the approximation that the virtual air temperature is equal to the air temperature. This simplification is reasonable because the Tv is, on average << .1% greater than T (using raw Reanalysis specific humidity at the South Col)"
   ]
  },
  {
   "cell_type": "code",
   "execution_count": 132,
   "metadata": {},
   "outputs": [],
   "source": [
    "\n",
    "\n",
    "def adjustT(temp,lapse,dz):\n",
    "    \"\"\"\n",
    "    Simple function to take an observed temperature (temp) and adjust for a change in elevation (dz) \n",
    "    using the lapse rate (lapse)\n",
    "    NB: Lapse in degC or K km^-1\n",
    "    \"\"\"\n",
    "    temp_adj=temp+lapse/1000.*dz\n",
    "    \n",
    "    return temp_adj\n",
    "\n",
    "def adjustP(press,temp,lapse,dz):\n",
    "    \"\"\"\n",
    "    Simple function using the hypsometric equation to estimate the pressure after a change in altitude of \n",
    "    dz, given starting pressure (press) and starting temp (temp)\n",
    "    \"\"\"\n",
    "    tav=1/2.*(temp+adjustT(temp,lapse,dz))+273.15 # NB: C-->K\n",
    "    g=8.80655 # gravitational acceleration\n",
    "    Rd=287 # gas constant for dry air\n",
    "    press_adj=press*np.exp(-dz*g/(Rd*tav))\n",
    "    \n",
    "    return press_adj\n",
    "\n",
    "mod_daily[\"summit_temp\"]=adjustT(mod_daily[\"t_corr\"],mod_daily[\"lapse\"],8848-7986)\n",
    "mod_daily[\"summit_press\"]=adjustP(mod_daily[\"p_corr\"],mod_daily[\"t_corr\"],mod_daily[\"lapse\"],8848-7986)\n",
    "# Test the factor that Tv is larger than T by...\n",
    "#vp=GF.Q2vp(mod_daily[\"q\"],mod_daily[\"level\"])\n",
    "#mod_daily[\"raw_mix_rat\"]=0.622*vp/(mod_daily[\"level\"]*100-vp)\n",
    "#mu_mult=np.mean(1+0.61*mod_daily[\"raw_mix_rat\"]); print mu_mult"
   ]
  },
  {
   "cell_type": "markdown",
   "metadata": {},
   "source": [
    "# Computing Summit VO$_2$ Max\n",
    "Now we convert summit pressure to the inspired oxygen, pI. This differs from the available oxygen (which is 20.95% of the total pressure) due to the moistening of the air when inhaled.\n",
    "\n",
    "The conversion to VO$_2$ max is then achived by inverting the (log-linear) regression of Bailey (2001) who performed a meta-analysis of the relationship between inspired O$_2$ and VO$_2$ Max. Note that $c$ is the conversion multiplier (1.3332239) to transform mmHg to hPa\n",
    "\n",
    "\\begin{eqnarray}\n",
    "pI = c \\times e^{(0.0308 \\times VO_2 Max + 3.2500)}\\\\\n",
    "pI/c = e^{(0.0308 \\times VO_2 Max + 3.2500)}\\\\\n",
    "ln(pI/c)=0.0308 \\times VO_2 Max + 3.2500 \\\\\n",
    "VO_2 Max = (ln(pI/c)-3.2500)/0.0308\n",
    "\\end{eqnarray}"
   ]
  },
  {
   "cell_type": "code",
   "execution_count": 147,
   "metadata": {},
   "outputs": [],
   "source": [
    "mod_daily[\"summit_pI\"]=0.2095*(mod_daily[\"summit_press\"]-GF.satVp(36.8+273.15)/100.)\n",
    "mod_daily[\"VO2_max\"]=(np.log(mod_daily[\"summit_pI\"]/1.3332239)-3.25)/0.0308"
   ]
  },
  {
   "cell_type": "code",
   "execution_count": null,
   "metadata": {},
   "outputs": [],
   "source": []
  },
  {
   "cell_type": "code",
   "execution_count": null,
   "metadata": {},
   "outputs": [],
   "source": []
  },
  {
   "cell_type": "code",
   "execution_count": null,
   "metadata": {},
   "outputs": [],
   "source": []
  }
 ],
 "metadata": {
  "kernelspec": {
   "display_name": "Python 2",
   "language": "python",
   "name": "python2"
  },
  "language_info": {
   "codemirror_mode": {
    "name": "ipython",
    "version": 2
   },
   "file_extension": ".py",
   "mimetype": "text/x-python",
   "name": "python",
   "nbconvert_exporter": "python",
   "pygments_lexer": "ipython2",
   "version": "2.7.15"
  }
 },
 "nbformat": 4,
 "nbformat_minor": 2
}
