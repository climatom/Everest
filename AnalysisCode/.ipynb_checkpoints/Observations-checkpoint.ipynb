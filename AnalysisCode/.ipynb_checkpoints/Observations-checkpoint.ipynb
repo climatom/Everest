{
 "cells": [
  {
   "cell_type": "code",
   "execution_count": 3,
   "metadata": {},
   "outputs": [],
   "source": [
    "import os,sys,netCDF4\n",
    "\n",
    "# Get dir name of parent directory\n",
    "modfol=os.path.dirname(os.getcwd())\n",
    "sys.path.insert(0, modfol)\n",
    "\n",
    "# Complete import statements \n",
    "import GeneralFunctions as GF, numpy as np, matplotlib.pyplot as plt, pandas as pd\n",
    "\n",
    "# Set Data directory\n",
    "datadir=modfol+\"/Data/\"\n",
    "\n",
    "# Setname of observations file\n",
    "obsfile=datadir+\"Pyramid_SCol.xlsx\" # Sheetnames = \"Pyramid_hour\"; \"SCol\"\n"
   ]
  },
  {
   "cell_type": "markdown",
   "metadata": {},
   "source": [
    "# Comparison of Daily Observations and Reanalysis Data\n",
    "\n",
    "First we import the weather station data. These data have a temporal frequency of 10 minutes, and are in Nepali time (GMT+5.45). We import into a pandas DataFrame and set the Date (first column) as the time index"
   ]
  },
  {
   "cell_type": "code",
   "execution_count": 22,
   "metadata": {},
   "outputs": [
    {
     "data": {
      "text/html": [
       "<div>\n",
       "<style scoped>\n",
       "    .dataframe tbody tr th:only-of-type {\n",
       "        vertical-align: middle;\n",
       "    }\n",
       "\n",
       "    .dataframe tbody tr th {\n",
       "        vertical-align: top;\n",
       "    }\n",
       "\n",
       "    .dataframe thead th {\n",
       "        text-align: right;\n",
       "    }\n",
       "</style>\n",
       "<table border=\"1\" class=\"dataframe\">\n",
       "  <thead>\n",
       "    <tr style=\"text-align: right;\">\n",
       "      <th></th>\n",
       "      <th>Temp</th>\n",
       "      <th>Press</th>\n",
       "    </tr>\n",
       "    <tr>\n",
       "      <th>Date</th>\n",
       "      <th></th>\n",
       "      <th></th>\n",
       "    </tr>\n",
       "  </thead>\n",
       "  <tbody>\n",
       "    <tr>\n",
       "      <th>2008-05-15 15:20:00</th>\n",
       "      <td>-16.8</td>\n",
       "      <td>382.5</td>\n",
       "    </tr>\n",
       "    <tr>\n",
       "      <th>2008-05-15 15:30:00</th>\n",
       "      <td>-17.4</td>\n",
       "      <td>382.4</td>\n",
       "    </tr>\n",
       "    <tr>\n",
       "      <th>2008-05-15 15:40:00</th>\n",
       "      <td>-17.8</td>\n",
       "      <td>382.5</td>\n",
       "    </tr>\n",
       "    <tr>\n",
       "      <th>2008-05-15 15:50:00</th>\n",
       "      <td>-17.7</td>\n",
       "      <td>382.2</td>\n",
       "    </tr>\n",
       "    <tr>\n",
       "      <th>2008-05-15 16:00:00</th>\n",
       "      <td>-17.2</td>\n",
       "      <td>382.1</td>\n",
       "    </tr>\n",
       "  </tbody>\n",
       "</table>\n",
       "</div>"
      ],
      "text/plain": [
       "                     Temp  Press\n",
       "Date                            \n",
       "2008-05-15 15:20:00 -16.8  382.5\n",
       "2008-05-15 15:30:00 -17.4  382.4\n",
       "2008-05-15 15:40:00 -17.8  382.5\n",
       "2008-05-15 15:50:00 -17.7  382.2\n",
       "2008-05-15 16:00:00 -17.2  382.1"
      ]
     },
     "execution_count": 22,
     "metadata": {},
     "output_type": "execute_result"
    }
   ],
   "source": [
    "obs=pd.read_excel(obsfile,sheetname=\"SCol\",index_col=0,parse_dates=True,names=[\"Temp\",\"Press\"])\n",
    "obs.head(5)"
   ]
  },
  {
   "cell_type": "markdown",
   "metadata": {
    "collapsed": true
   },
   "source": [
    "Next we iterate over all the monthly NetCDF files, (bi-linearly) interpolating to the lon (86.9250) and lat (27.9878) of Everest, and to the elevation of the South Col (7986 m). These interpolated data are inserted into a time-aware Pandas DataFrame. "
   ]
  },
  {
   "cell_type": "code",
   "execution_count": 7,
   "metadata": {},
   "outputs": [
    {
     "ename": "IOError",
     "evalue": "[Errno 2] No such file or directory: '/tmp/scratch.nc'",
     "output_type": "error",
     "traceback": [
      "\u001b[0;31m---------------------------------------------------------------------------\u001b[0m",
      "\u001b[0;31mIOError\u001b[0m                                   Traceback (most recent call last)",
      "\u001b[0;32m<ipython-input-7-6ab9bf9fdc01>\u001b[0m in \u001b[0;36m<module>\u001b[0;34m()\u001b[0m\n\u001b[1;32m     49\u001b[0m \u001b[0;34m\u001b[0m\u001b[0m\n\u001b[1;32m     50\u001b[0m \u001b[0mfiles\u001b[0m\u001b[0;34m=\u001b[0m\u001b[0;34m[\u001b[0m\u001b[0mii\u001b[0m \u001b[0;32mfor\u001b[0m \u001b[0mii\u001b[0m \u001b[0;32min\u001b[0m \u001b[0mos\u001b[0m\u001b[0;34m.\u001b[0m\u001b[0mlistdir\u001b[0m\u001b[0;34m(\u001b[0m\u001b[0mdatadir\u001b[0m\u001b[0;34m)\u001b[0m \u001b[0;32mif\u001b[0m \u001b[0;34m\".nc\"\u001b[0m \u001b[0;32min\u001b[0m \u001b[0mii\u001b[0m\u001b[0;34m]\u001b[0m\u001b[0;34m\u001b[0m\u001b[0m\n\u001b[0;32m---> 51\u001b[0;31m \u001b[0mtest_time\u001b[0m\u001b[0;34m,\u001b[0m\u001b[0mtest_out\u001b[0m\u001b[0;34m=\u001b[0m\u001b[0minterpNC\u001b[0m\u001b[0;34m(\u001b[0m\u001b[0mfiles\u001b[0m\u001b[0;34m[\u001b[0m\u001b[0;36m0\u001b[0m\u001b[0;34m]\u001b[0m\u001b[0;34m,\u001b[0m\u001b[0;34m\"z_2\"\u001b[0m\u001b[0;34m,\u001b[0m\u001b[0;34m\"pressure\"\u001b[0m\u001b[0;34m,\u001b[0m\u001b[0;36m7986\u001b[0m\u001b[0;34m)\u001b[0m\u001b[0;34m\u001b[0m\u001b[0m\n\u001b[0m",
      "\u001b[0;32m<ipython-input-7-6ab9bf9fdc01>\u001b[0m in \u001b[0;36minterpNC\u001b[0;34m(fin, zname, pname, z_c)\u001b[0m\n\u001b[1;32m     20\u001b[0m \u001b[0;34m\u001b[0m\u001b[0m\n\u001b[1;32m     21\u001b[0m     \u001b[0;31m# recycle fin to be the netCDF file\u001b[0m\u001b[0;34m\u001b[0m\u001b[0;34m\u001b[0m\u001b[0m\n\u001b[0;32m---> 22\u001b[0;31m     \u001b[0mfin\u001b[0m\u001b[0;34m=\u001b[0m\u001b[0mnetCDF4\u001b[0m\u001b[0;34m.\u001b[0m\u001b[0mDataset\u001b[0m\u001b[0;34m(\u001b[0m\u001b[0;34m\"/tmp/scratch.nc\"\u001b[0m\u001b[0;34m)\u001b[0m\u001b[0;34m\u001b[0m\u001b[0m\n\u001b[0m\u001b[1;32m     23\u001b[0m \u001b[0;34m\u001b[0m\u001b[0m\n\u001b[1;32m     24\u001b[0m     \u001b[0;31m# Variables for interpolation\u001b[0m\u001b[0;34m\u001b[0m\u001b[0;34m\u001b[0m\u001b[0m\n",
      "\u001b[0;32mnetCDF4/_netCDF4.pyx\u001b[0m in \u001b[0;36mnetCDF4._netCDF4.Dataset.__init__\u001b[0;34m()\u001b[0m\n",
      "\u001b[0;32mnetCDF4/_netCDF4.pyx\u001b[0m in \u001b[0;36mnetCDF4._netCDF4._ensure_nc_success\u001b[0;34m()\u001b[0m\n",
      "\u001b[0;31mIOError\u001b[0m: [Errno 2] No such file or directory: '/tmp/scratch.nc'"
     ]
    }
   ],
   "source": [
    "# To facilitate the interpolation, we write a convenience function that interpolates horizontally using the system\n",
    "# install of CDO, and then interpolates vertically using Python\n",
    "\n",
    "def interpNC(fin,zname,pname,z_c):\n",
    "\n",
    "    \"\"\"\n",
    "    Take variables in fin -- which is time/plevel netCDF4 Dataset and \n",
    "    interpolate to the z of interest\n",
    "    \n",
    "    fin:  -> netCDF4 input file\n",
    "    zname:-> name of geopotential height variable\n",
    "    pname:-> name of pressure level variable\n",
    "    z_c:  -> height to interpolate to\n",
    "    \n",
    "    \"\"\"\n",
    "    \n",
    "    # Interpolate entire file (i.e. all vars/times) horizontally with CDO \n",
    "    cmd=\"cdo remapbil,lon=86.93333_lat=27.96667 %s /tmp/scratch.nc\" % fin\n",
    "    fail=os.system(cmd) # system call\n",
    "    \n",
    "    # recycle fin to be the netCDF file\n",
    "    fin=netCDF4.Dataset(\"/tmp/scratch.nc\")\n",
    "    \n",
    "    # Variables for interpolation\n",
    "    vs=[ii for ii in fin.variables if \"lon\" not in ii and \"lat\" not in ii and\\\n",
    "        \"time\" not in ii and zname not in ii and \"z\" not in ii]\n",
    "    \n",
    "    #Assignments and preallocation\n",
    "    z=np.squeeze(fin.variables[zname][:,:]) # Height - m\n",
    "    p=np.squeeze(fin.variables[pname][:]) # Pressure level \n",
    "    time=fin.variables[\"time\"] # Time - needed for writing human-readable text\n",
    "    nt=len(time)\n",
    "    nv=len(vs)\n",
    "    tcount=range(nt)\n",
    "    vcount=range(nv)\n",
    "    out=np.zeros((len(time),len(vs)))*np.nan # \n",
    "    ptime=netCDF4.num2date(time[:],units=time.units,calendar=time.calendar)  \n",
    "\n",
    "    \n",
    "    # Main loop \n",
    "    for v in vcount: # Over variables\n",
    "        y=np.squeeze(fin.variables[vs[v]][:,:])\n",
    "        for t in tcount: # Over time\n",
    "            out[t,v]=np.interp(z_c,z[t,::-1],y[t,::-1])    \n",
    "                           \n",
    "        if vs[v]==\"t\": # convert to deg C\n",
    "            out[:,v]-=273.15\n",
    "            \n",
    "    return ptime,out\n",
    "\n",
    "files=[ii for ii in os.listdir(datadir) if \".nc\" in ii]\n",
    "test_time,test_out=interpNC(files[0],\"z_2\",\"pressure\",7986)"
   ]
  },
  {
   "cell_type": "code",
   "execution_count": null,
   "metadata": {},
   "outputs": [],
   "source": []
  }
 ],
 "metadata": {
  "kernelspec": {
   "display_name": "Python 2",
   "language": "python",
   "name": "python2"
  },
  "language_info": {
   "codemirror_mode": {
    "name": "ipython",
    "version": 2
   },
   "file_extension": ".py",
   "mimetype": "text/x-python",
   "name": "python",
   "nbconvert_exporter": "python",
   "pygments_lexer": "ipython2",
   "version": "2.7.15"
  }
 },
 "nbformat": 4,
 "nbformat_minor": 2
}
