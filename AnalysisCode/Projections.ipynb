{
 "cells": [
  {
   "cell_type": "code",
   "execution_count": 1,
   "metadata": {},
   "outputs": [],
   "source": [
    "import os,sys,netCDF4, pandas as pd,statsmodels.api as sm\n",
    "from statsmodels.formula.api import ols\n",
    "\n",
    "# Get dir name of parent directory\n",
    "modfol=os.path.dirname(os.getcwd())\n",
    "sys.path.insert(0, modfol)\n",
    "\n",
    "# Complete import statements \n",
    "import GeneralFunctions as GF, numpy as np, matplotlib.pyplot as plt, pandas as pd\n",
    "\n",
    "# Set Data directory\n",
    "datadir=modfol+\"/Data/\"\n"
   ]
  },
  {
   "cell_type": "markdown",
   "metadata": {},
   "source": [
    "# Summit Climate Censitivity to Global Mean Temperature Change "
   ]
  },
  {
   "cell_type": "code",
   "execution_count": 2,
   "metadata": {},
   "outputs": [
    {
     "name": "stdout",
     "output_type": "stream",
     "text": [
      "Processed file: /home/lunet/gytm3/EverestShare/Data//Projections/IPSL_IPSL-CM5B-LR_rcp85.nc\n",
      "Processed file: /home/lunet/gytm3/EverestShare/Data//Projections/CMCC_CMCC-CESM_rcp85.nc\n",
      "Processed file: /home/lunet/gytm3/EverestShare/Data//Projections/MIROC_MIROC-ESM-CHEM_rcp85.nc\n",
      "Processed file: /home/lunet/gytm3/EverestShare/Data//Projections/LASG-CESS_FGOALS-g2_rcp85.nc\n",
      "Processed file: /home/lunet/gytm3/EverestShare/Data//Projections/CCCma_CanESM2_rcp85.nc\n",
      "Processed file: /home/lunet/gytm3/EverestShare/Data//Projections/BNU_BNU-ESM_rcp85.nc\n",
      "Processed file: /home/lunet/gytm3/EverestShare/Data//Projections/NCC_NorESM1-M_rcp85.nc\n",
      "Processed file: /home/lunet/gytm3/EverestShare/Data//Projections/BCC_bcc-csm1-1-m_rcp85.nc\n",
      "Processed file: /home/lunet/gytm3/EverestShare/Data//Projections/NOAA-GFDL_GFDL-CM3_rcp85.nc\n",
      "Processed file: /home/lunet/gytm3/EverestShare/Data//Projections/NOAA-GFDL_GFDL-ESM2G_rcp85.nc\n",
      "Processed file: /home/lunet/gytm3/EverestShare/Data//Projections/MRI_MRI-CGCM3_rcp85.nc\n",
      "Processed file: /home/lunet/gytm3/EverestShare/Data//Projections/MIROC_MIROC5_rcp85.nc\n",
      "Processed file: /home/lunet/gytm3/EverestShare/Data//Projections/MOHC_HadGEM2-CC_rcp85.nc\n",
      "Processed file: /home/lunet/gytm3/EverestShare/Data//Projections/IPSL_IPSL-CM5A-LR_rcp85.nc\n",
      "Processed file: /home/lunet/gytm3/EverestShare/Data//Projections/MPI-M_MPI-ESM-MR_rcp85.nc\n",
      "Processed file: /home/lunet/gytm3/EverestShare/Data//Projections/CMCC_CMCC-CMS_rcp85.nc\n",
      "Processed file: /home/lunet/gytm3/EverestShare/Data//Projections/MIROC_MIROC-ESM_rcp85.nc\n",
      "Processed file: /home/lunet/gytm3/EverestShare/Data//Projections/CMCC_CMCC-CM_rcp85.nc\n",
      "Processed file: /home/lunet/gytm3/EverestShare/Data//Projections/CSIRO-BOM_ACCESS1-0_rcp85.nc\n",
      "Processed file: /home/lunet/gytm3/EverestShare/Data//Projections/CSIRO-BOM_ACCESS1-3_rcp85.nc\n",
      "Processed file: /home/lunet/gytm3/EverestShare/Data//Projections/IPSL_IPSL-CM5A-MR_rcp85.nc\n"
     ]
    }
   ],
   "source": [
    "# Read in each model run (pressure and tas -- daily), extract 1981-2099, and compute the monthly\n",
    "files=[\"%s/Projections/\"%datadir+ii for ii in os.listdir(\"%s/Projections/\"%datadir) if \"tas\" not in ii]\n",
    "yrst=1981; yrstp=2099\n",
    "mondata={}\n",
    "for f in files:\n",
    "    # Use cdo to process to monthly - cleaner dong this with MOHC 36-day calendar!\n",
    "    fail=os.system(\"cdo -L -s monmean -selyear,1981/2099 %s /tmp/scratch.nc\"%f); assert fail==0   \n",
    "    fobj=netCDF4.Dataset(\"/tmp/scratch.nc\",\"r\")\n",
    "    ta=fobj.variables[\"Temp\"] \n",
    "    press=fobj.variables[\"Pressure\"]\n",
    "    time=fobj.variables[\"time\"] \n",
    "    year,mon,day,hour,pyTimes=GF.conTimes(time_str=time.units,calendar=time.calendar\\\n",
    "                                      ,times=time[:],safe=True)\n",
    "    mondata[f.split(\"/\")[-1].replace(\".nc\",\"_ta\")]=ta[:]\n",
    "    mondata[f.split(\"/\")[-1].replace(\".nc\",\"_press\")]=press[:]\n",
    "    print \"Processed file: %s\" % f\n",
    "    os.system(\"rm /tmp/scratch.nc\")\n",
    "mondata=pd.DataFrame(mondata,index=pyTimes)   "
   ]
  },
  {
   "cell_type": "code",
   "execution_count": 3,
   "metadata": {},
   "outputs": [
    {
     "name": "stdout",
     "output_type": "stream",
     "text": [
      "Processed file: BCC_bcc-csm1-1-m_rcp85_tas\n",
      "Processed file: BNU_BNU-ESM_rcp85_tas\n",
      "Processed file: CCCma_CanESM2_rcp85_tas\n",
      "Processed file: CMCC_CMCC-CMS_rcp85_tas\n",
      "Processed file: CMCC_CMCC-CM_rcp85_tas\n",
      "Processed file: CSIRO-BOM_ACCESS1-0_rcp85_tas\n",
      "Processed file: CSIRO-BOM_ACCESS1-3_rcp85_tas\n",
      "Processed file: IPSL_IPSL-CM5A-LR_rcp85_tas\n",
      "Processed file: IPSL_IPSL-CM5A-MR_rcp85_tas\n",
      "Processed file: IPSL_IPSL-CM5B-LR_rcp85_tas\n",
      "Processed file: MIROC_MIROC-ESM-CHEM_rcp85_tas\n",
      "Processed file: MIROC_MIROC-ESM_rcp85_tas\n",
      "Processed file: MIROC_MIROC5_rcp85_tas\n",
      "Processed file: MOHC_HadGEM2-CC_rcp85_tas\n",
      "Processed file: MPI-M_MPI-ESM-MR_rcp85_tas\n",
      "Processed file: MRI_MRI-CGCM3_rcp85_tas\n",
      "Processed file: NCC_NorESM1-M_rcp85_tas\n",
      "Processed file: NOAA-GFDL_GFDL-CM3_rcp85_tas\n",
      "Processed file: NOAA-GFDL_GFDL-ESM2G_rcp85_tas\n"
     ]
    }
   ],
   "source": [
    "# Now for each column (series) in mondata, look for the global mean temp model run, \n",
    "# and read in to its own pandas DataFrame\n",
    "runs=[ii.replace(\"ta\",\"tas\") for ii in mondata.columns if \"ta\" in ii]\n",
    "tasdata={}; models=[]\n",
    "for r in runs:\n",
    "    if r+\".nc\" in os.listdir(\"%s/Projections/\" % datadir):\n",
    "        cmd=\"cdo -L -s monmean -selyear,1981/2099 %sProjections/%s.nc /tmp/scratch.nc\" %(datadir,r)\n",
    "        fail=os.system(cmd ); assert fail==0\n",
    "        fobj=netCDF4.Dataset(\"/tmp/scratch.nc\",\"r\")\n",
    "        tasdata[r]=np.squeeze(fobj.variables[\"tas\"][:])\n",
    "        time=fobj.variables[\"time\"]\n",
    "        year,mon,day,hour,pyTimes=GF.conTimes(time_str=time.units,calendar=time.calendar\\\n",
    "                                      ,times=time[:],safe=True)\n",
    "        print \"Processed file: %s\" % r\n",
    "        os.system(\"rm /tmp/scratch.nc\")\n",
    "        \n",
    "tasmondata=pd.DataFrame(tasdata,index=pyTimes) "
   ]
  },
  {
   "cell_type": "markdown",
   "metadata": {},
   "source": [
    "\n",
    "## Determining Scaling Coefficients for Monthly Mean Values\n",
    "Here we smooth both the local response variable (ta and press) and the global mean temperature variable. The smoothing is carried out to consistently define \"climate\" (30-year periods) and to result in more stable parameter estimates. \n",
    "\n",
    "To facilitate the analysis, we split all data on month and perform separate regressions. We then perform an ANOVA to assess whether month makes a difference to the slope coefficients. "
   ]
  },
  {
   "cell_type": "code",
   "execution_count": 36,
   "metadata": {},
   "outputs": [
    {
     "name": "stdout",
     "output_type": "stream",
     "text": [
      "\t\t<-- Temperature results --> \n",
      "             sum_sq     df         F        PR(>F)\n",
      "C(month)   5.257127   11.0  6.378426  3.955101e-09\n",
      "Residual  16.184378  216.0       NaN           NaN\n",
      "\n",
      "\t\t<-- Pressure results --> \n",
      "                 sum_sq     df        F    PR(>F)\n",
      "C(month)    2012.215657   11.0  0.22284  0.995914\n",
      "Residual  177314.151114  216.0      NaN       NaN\n"
     ]
    }
   ],
   "source": [
    "# Add a month variable to facilitate separate monthly analysis\n",
    "mondata[\"month\"]=mondata.index.month\n",
    "tasmondata[\"month\"]=tasmondata.index.month\n",
    "\n",
    "# Allocations\n",
    "tas_slopes={}\n",
    "press_slopes={}\n",
    "month=range(1,13)\n",
    "models=[ii for ii in list(tasmondata.columns.values) if \"month\" not in ii]\n",
    "ensemble=np.zeros((len(models)*len(month),3))*np.nan\n",
    "\n",
    "# Nested loop to apply separate regressions for each month and model \n",
    "counter=0; mod_list=[]\n",
    "for mod in models:\n",
    "    \n",
    "    for m in month:\n",
    "               \n",
    "        # The y(s)\n",
    "        tas_loc_sm=mondata[mod.replace(\"tas\",\"ta\")][mondata[\"month\"]==m].rolling(30).mean()\n",
    "        press_loc_sm=mondata[mod.replace(\"tas\",\"press\")][tasmondata[\"month\"]==m].rolling(30).mean()\n",
    "        \n",
    "        # The x\n",
    "        tas_glob_sm=tasmondata[mod][tasmondata[\"month\"]==m].rolling(30).mean()\n",
    "        \n",
    "        # The regressions\n",
    "        idx=~np.isnan(tas_loc_sm)\n",
    "        ensemble[counter,0],intercept_tas=np.polyfit(tas_glob_sm[idx]-tas_glob_sm[idx][0],\\\n",
    "                                           tas_loc_sm[idx]-tas_loc_sm[idx][0],1)\n",
    "        ensemble[counter,1],intercept_press=np.polyfit(tas_glob_sm[idx]-tas_glob_sm[idx][0]\\\n",
    "                                               ,press_loc_sm[idx]-press_loc_sm[idx][0],1)\n",
    "        ensemble[counter,2]=m\n",
    "        mod_list.append(mod)\n",
    "        \n",
    "        # Increment!\n",
    "        counter+=1\n",
    "        \n",
    "# Put in ANOVA-friendly array        \n",
    "ensemble=pd.DataFrame({\"tas_slope\":ensemble[:,0],\"press_slope\":ensemble[:,1],\"month\": ensemble[:,2]},\\\n",
    "                     index=mod_list)\n",
    "# Calibrate models \n",
    "mod_tas = ols('tas_slope ~ C(month)',\n",
    "                data=ensemble).fit()\n",
    "\n",
    "mod_press=ols('press_slope ~ C(month)',\n",
    "                data=ensemble).fit()\n",
    "# Do ANOVA and display results\n",
    "aov_tas = sm.stats.anova_lm(mod_tas, typ=2)\n",
    "aov_press = sm.stats.anova_lm(mod_press, typ=2)\n",
    "print \"\\t\\t<-- Temperature results --> \\n\", aov_tas\n",
    "print \"\\n\\t\\t<-- Pressure results --> \\n\", aov_press"
   ]
  },
  {
   "cell_type": "code",
   "execution_count": 29,
   "metadata": {},
   "outputs": [
    {
     "data": {
      "text/plain": [
       "<matplotlib.axes._subplots.AxesSubplot at 0x7f929d6d0a90>"
      ]
     },
     "execution_count": 29,
     "metadata": {},
     "output_type": "execute_result"
    },
    {
     "data": {
      "image/png": "[encoded data removed]",
      "text/plain": [
       "<Figure size 432x288 with 1 Axes>"
      ]
     },
     "metadata": {},
     "output_type": "display_data"
    },
    {
     "data": {
      "image/png": "[encoded data removed]",
      "text/plain": [
       "<Figure size 432x288 with 1 Axes>"
      ]
     },
     "metadata": {},
     "output_type": "display_data"
    }
   ],
   "source": [
    "ensemble[[\"tas_slope\",\"month\"]].boxplot(by=\"month\")\n",
    "ensemble[[\"press_slope\",\"month\"]].boxplot(by=\"month\")"
   ]
  },
  {
   "cell_type": "markdown",
   "metadata": {},
   "source": [
    "To summarise the results from the above, we see that air temperature sensitivity to global mean air temp does seem to depend on the month; pressure does not."
   ]
  },
  {
   "cell_type": "markdown",
   "metadata": {},
   "source": [
    "# Exploring Trends in Variability "
   ]
  },
  {
   "cell_type": "code",
   "execution_count": null,
   "metadata": {},
   "outputs": [],
   "source": []
  }
 ],
 "metadata": {
  "kernelspec": {
   "display_name": "Python 2",
   "language": "python",
   "name": "python2"
  },
  "language_info": {
   "codemirror_mode": {
    "name": "ipython",
    "version": 2
   },
   "file_extension": ".py",
   "mimetype": "text/x-python",
   "name": "python",
   "nbconvert_exporter": "python",
   "pygments_lexer": "ipython2",
   "version": "2.7.15"
  }
 },
 "nbformat": 4,
 "nbformat_minor": 2
}
