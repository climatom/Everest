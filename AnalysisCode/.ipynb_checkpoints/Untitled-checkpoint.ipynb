{
 "cells": [
  {
   "cell_type": "code",
   "execution_count": 14,
   "metadata": {},
   "outputs": [],
   "source": [
    "import os,sys\n",
    "\n",
    "# Get dir name of parent directory\n",
    "modfol=os.path.dirname(os.getcwd())\n",
    "sys.path.insert(0, modfol)\n",
    "\n",
    "# Complete import statements \n",
    "import GeneralFunctions as GF, numpy as np, matplotlib.pyplot as plt, pandas as pd\n",
    "\n",
    "# Set Data directory\n",
    "datadir=modfol+\"/Data/\"\n",
    "\n",
    "# Setname of observations file\n",
    "obsfile=datadir+\"Pyramid_SCol.xlsx\" # Sheetnames = \"Pyramid_hour\"; \"SCol\"\n"
   ]
  },
  {
   "cell_type": "markdown",
   "metadata": {},
   "source": [
    "# Comparison of Daily Observations and Reanalysis Data\n",
    "\n",
    "First we import the weather station data. These data have a temporal frequency of 10 minutes, and are in Nepali time (GMT+5.45). We import into a pandas DataFrame and set the Date (first column) as the time index"
   ]
  },
  {
   "cell_type": "code",
   "execution_count": 18,
   "metadata": {},
   "outputs": [],
   "source": [
    "obs=pd.read_excel(obsfile,sheetname=\"Pyramid_hour\",index_col=0,names=[\"Temp\",\"Press\"])"
   ]
  },
  {
   "cell_type": "code",
   "execution_count": null,
   "metadata": {
    "collapsed": true
   },
   "outputs": [],
   "source": []
  }
 ],
 "metadata": {
  "kernelspec": {
   "display_name": "Python 2",
   "language": "python",
   "name": "python2"
  },
  "language_info": {
   "codemirror_mode": {
    "name": "ipython",
    "version": 2
   },
   "file_extension": ".py",
   "mimetype": "text/x-python",
   "name": "python",
   "nbconvert_exporter": "python",
   "pygments_lexer": "ipython2",
   "version": "2.7.15"
  }
 },
 "nbformat": 4,
 "nbformat_minor": 2
}
