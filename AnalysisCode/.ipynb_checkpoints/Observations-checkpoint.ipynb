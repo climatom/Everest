{
 "cells": [
  {
   "cell_type": "code",
   "execution_count": 14,
   "metadata": {},
   "outputs": [],
   "source": [
    "import os,sys\n",
    "\n",
    "# Get dir name of parent directory\n",
    "modfol=os.path.dirname(os.getcwd())\n",
    "sys.path.insert(0, modfol)\n",
    "\n",
    "# Complete import statements \n",
    "import GeneralFunctions as GF, numpy as np, matplotlib.pyplot as plt, pandas as pd\n",
    "\n",
    "# Set Data directory\n",
    "datadir=modfol+\"/Data/\"\n",
    "\n",
    "# Setname of observations file\n",
    "obsfile=datadir+\"Pyramid_SCol.xlsx\" # Sheetnames = \"Pyramid_hour\"; \"SCol\"\n"
   ]
  },
  {
   "cell_type": "markdown",
   "metadata": {},
   "source": [
    "# Comparison of Daily Observations and Reanalysis Data\n",
    "\n",
    "First we import the weather station data. These data have a temporal frequency of 10 minutes, and are in Nepali time (GMT+5.45). We import into a pandas DataFrame and set the Date (first column) as the time index"
   ]
  },
  {
   "cell_type": "code",
   "execution_count": 22,
   "metadata": {},
   "outputs": [
    {
     "data": {
      "text/html": [
       "<div>\n",
       "<style scoped>\n",
       "    .dataframe tbody tr th:only-of-type {\n",
       "        vertical-align: middle;\n",
       "    }\n",
       "\n",
       "    .dataframe tbody tr th {\n",
       "        vertical-align: top;\n",
       "    }\n",
       "\n",
       "    .dataframe thead th {\n",
       "        text-align: right;\n",
       "    }\n",
       "</style>\n",
       "<table border=\"1\" class=\"dataframe\">\n",
       "  <thead>\n",
       "    <tr style=\"text-align: right;\">\n",
       "      <th></th>\n",
       "      <th>Temp</th>\n",
       "      <th>Press</th>\n",
       "    </tr>\n",
       "    <tr>\n",
       "      <th>Date</th>\n",
       "      <th></th>\n",
       "      <th></th>\n",
       "    </tr>\n",
       "  </thead>\n",
       "  <tbody>\n",
       "    <tr>\n",
       "      <th>2008-05-15 15:20:00</th>\n",
       "      <td>-16.8</td>\n",
       "      <td>382.5</td>\n",
       "    </tr>\n",
       "    <tr>\n",
       "      <th>2008-05-15 15:30:00</th>\n",
       "      <td>-17.4</td>\n",
       "      <td>382.4</td>\n",
       "    </tr>\n",
       "    <tr>\n",
       "      <th>2008-05-15 15:40:00</th>\n",
       "      <td>-17.8</td>\n",
       "      <td>382.5</td>\n",
       "    </tr>\n",
       "    <tr>\n",
       "      <th>2008-05-15 15:50:00</th>\n",
       "      <td>-17.7</td>\n",
       "      <td>382.2</td>\n",
       "    </tr>\n",
       "    <tr>\n",
       "      <th>2008-05-15 16:00:00</th>\n",
       "      <td>-17.2</td>\n",
       "      <td>382.1</td>\n",
       "    </tr>\n",
       "  </tbody>\n",
       "</table>\n",
       "</div>"
      ],
      "text/plain": [
       "                     Temp  Press\n",
       "Date                            \n",
       "2008-05-15 15:20:00 -16.8  382.5\n",
       "2008-05-15 15:30:00 -17.4  382.4\n",
       "2008-05-15 15:40:00 -17.8  382.5\n",
       "2008-05-15 15:50:00 -17.7  382.2\n",
       "2008-05-15 16:00:00 -17.2  382.1"
      ]
     },
     "execution_count": 22,
     "metadata": {},
     "output_type": "execute_result"
    }
   ],
   "source": [
    "obs=pd.read_excel(obsfile,sheetname=\"SCol\",index_col=0,parse_dates=True,names=[\"Temp\",\"Press\"])\n",
    "obs.head(5)"
   ]
  },
  {
   "cell_type": "code",
   "execution_count": null,
   "metadata": {
    "collapsed": true
   },
   "outputs": [],
   "source": []
  }
 ],
 "metadata": {
  "kernelspec": {
   "display_name": "Python 2",
   "language": "python",
   "name": "python2"
  },
  "language_info": {
   "codemirror_mode": {
    "name": "ipython",
    "version": 2
   },
   "file_extension": ".py",
   "mimetype": "text/x-python",
   "name": "python",
   "nbconvert_exporter": "python",
   "pygments_lexer": "ipython2",
   "version": "2.7.15"
  }
 },
 "nbformat": 4,
 "nbformat_minor": 2
}
